{
  "nbformat": 4,
  "nbformat_minor": 0,
  "metadata": {
    "colab": {
      "provenance": []
    },
    "kernelspec": {
      "name": "python3",
      "display_name": "Python 3"
    },
    "language_info": {
      "name": "python"
    },
    "gpuClass": "standard"
  },
  "cells": [
    {
      "cell_type": "code",
      "execution_count": null,
      "metadata": {
        "colab": {
          "base_uri": "https://localhost:8080/"
        },
        "id": "q8aZHaZU4JAx",
        "outputId": "d7c05673-1cd2-437e-bfcd-0f2475cdc3e8"
      },
      "outputs": [
        {
          "output_type": "stream",
          "name": "stdout",
          "text": [
            "Mounted at /content/drive/\n",
            "/content/drive/My Drive\n"
          ]
        }
      ],
      "source": [
        "import numpy as np\n",
        "np.set_printoptions(threshold=10000,suppress=True)\n",
        "import pandas as pd\n",
        "import warnings\n",
        "import matplotlib.pyplot as plt\n",
        "from sklearn.metrics import confusion_matrix\n",
        "from sklearn.metrics import PrecisionRecallDisplay\n",
        "warnings.filterwarnings('ignore')\n",
        "from google.colab import drive\n",
        "drive.mount('/content/drive/')\n",
        "%cd /content/drive/My Drive/\n"
      ]
    },
    {
      "cell_type": "code",
      "source": [
        "df=pd.read_csv('./credit_scoring.csv',sep=\";\",header=0)\n",
        "df.head(10)"
      ],
      "metadata": {
        "colab": {
          "base_uri": "https://localhost:8080/",
          "height": 363
        },
        "id": "LukbTwDd6QZB",
        "outputId": "6b56a6af-d1f1-42bd-ee4e-ff51d0b34095"
      },
      "execution_count": null,
      "outputs": [
        {
          "output_type": "execute_result",
          "data": {
            "text/plain": [
              "   Seniority  Home  Time   Age  Marital  Records  Job  Expenses  Income  \\\n",
              "0        9.0   1.0  60.0  30.0      0.0      1.0  1.0      73.0   129.0   \n",
              "1       17.0   1.0  60.0  58.0      1.0      1.0  0.0      48.0   131.0   \n",
              "2       10.0   0.0  36.0  46.0      0.0      2.0  1.0      90.0   200.0   \n",
              "3        0.0   1.0  60.0  24.0      1.0      1.0  0.0      63.0   182.0   \n",
              "4        0.0   1.0  36.0  26.0      1.0      1.0  0.0      46.0   107.0   \n",
              "5        1.0   0.0  60.0  36.0      0.0      1.0  0.0      75.0   214.0   \n",
              "6       29.0   0.0  60.0  44.0      0.0      1.0  0.0      75.0   125.0   \n",
              "7        9.0   1.0  12.0  27.0      1.0      1.0  0.0      35.0    80.0   \n",
              "8        0.0   0.0  60.0  32.0      0.0      1.0  1.0      90.0   107.0   \n",
              "9        0.0   1.0  48.0  41.0      0.0      1.0  1.0      90.0    80.0   \n",
              "\n",
              "    Assets  Debt  Amount   Price  Status  \n",
              "0      0.0   0.0   800.0   846.0       1  \n",
              "1      0.0   0.0  1000.0  1658.0       1  \n",
              "2   3000.0   0.0  2000.0  2985.0       0  \n",
              "3   2500.0   0.0   900.0  1325.0       1  \n",
              "4      0.0   0.0   310.0   910.0       1  \n",
              "5   3500.0   0.0   650.0  1645.0       1  \n",
              "6  10000.0   0.0  1600.0  1800.0       1  \n",
              "7      0.0   0.0   200.0  1093.0       1  \n",
              "8  15000.0   0.0  1200.0  1957.0       1  \n",
              "9      0.0   0.0  1200.0  1468.0       0  "
            ],
            "text/html": [
              "\n",
              "  <div id=\"df-d267ef46-b6d6-4c04-9721-7f2e9e932fcf\">\n",
              "    <div class=\"colab-df-container\">\n",
              "      <div>\n",
              "<style scoped>\n",
              "    .dataframe tbody tr th:only-of-type {\n",
              "        vertical-align: middle;\n",
              "    }\n",
              "\n",
              "    .dataframe tbody tr th {\n",
              "        vertical-align: top;\n",
              "    }\n",
              "\n",
              "    .dataframe thead th {\n",
              "        text-align: right;\n",
              "    }\n",
              "</style>\n",
              "<table border=\"1\" class=\"dataframe\">\n",
              "  <thead>\n",
              "    <tr style=\"text-align: right;\">\n",
              "      <th></th>\n",
              "      <th>Seniority</th>\n",
              "      <th>Home</th>\n",
              "      <th>Time</th>\n",
              "      <th>Age</th>\n",
              "      <th>Marital</th>\n",
              "      <th>Records</th>\n",
              "      <th>Job</th>\n",
              "      <th>Expenses</th>\n",
              "      <th>Income</th>\n",
              "      <th>Assets</th>\n",
              "      <th>Debt</th>\n",
              "      <th>Amount</th>\n",
              "      <th>Price</th>\n",
              "      <th>Status</th>\n",
              "    </tr>\n",
              "  </thead>\n",
              "  <tbody>\n",
              "    <tr>\n",
              "      <th>0</th>\n",
              "      <td>9.0</td>\n",
              "      <td>1.0</td>\n",
              "      <td>60.0</td>\n",
              "      <td>30.0</td>\n",
              "      <td>0.0</td>\n",
              "      <td>1.0</td>\n",
              "      <td>1.0</td>\n",
              "      <td>73.0</td>\n",
              "      <td>129.0</td>\n",
              "      <td>0.0</td>\n",
              "      <td>0.0</td>\n",
              "      <td>800.0</td>\n",
              "      <td>846.0</td>\n",
              "      <td>1</td>\n",
              "    </tr>\n",
              "    <tr>\n",
              "      <th>1</th>\n",
              "      <td>17.0</td>\n",
              "      <td>1.0</td>\n",
              "      <td>60.0</td>\n",
              "      <td>58.0</td>\n",
              "      <td>1.0</td>\n",
              "      <td>1.0</td>\n",
              "      <td>0.0</td>\n",
              "      <td>48.0</td>\n",
              "      <td>131.0</td>\n",
              "      <td>0.0</td>\n",
              "      <td>0.0</td>\n",
              "      <td>1000.0</td>\n",
              "      <td>1658.0</td>\n",
              "      <td>1</td>\n",
              "    </tr>\n",
              "    <tr>\n",
              "      <th>2</th>\n",
              "      <td>10.0</td>\n",
              "      <td>0.0</td>\n",
              "      <td>36.0</td>\n",
              "      <td>46.0</td>\n",
              "      <td>0.0</td>\n",
              "      <td>2.0</td>\n",
              "      <td>1.0</td>\n",
              "      <td>90.0</td>\n",
              "      <td>200.0</td>\n",
              "      <td>3000.0</td>\n",
              "      <td>0.0</td>\n",
              "      <td>2000.0</td>\n",
              "      <td>2985.0</td>\n",
              "      <td>0</td>\n",
              "    </tr>\n",
              "    <tr>\n",
              "      <th>3</th>\n",
              "      <td>0.0</td>\n",
              "      <td>1.0</td>\n",
              "      <td>60.0</td>\n",
              "      <td>24.0</td>\n",
              "      <td>1.0</td>\n",
              "      <td>1.0</td>\n",
              "      <td>0.0</td>\n",
              "      <td>63.0</td>\n",
              "      <td>182.0</td>\n",
              "      <td>2500.0</td>\n",
              "      <td>0.0</td>\n",
              "      <td>900.0</td>\n",
              "      <td>1325.0</td>\n",
              "      <td>1</td>\n",
              "    </tr>\n",
              "    <tr>\n",
              "      <th>4</th>\n",
              "      <td>0.0</td>\n",
              "      <td>1.0</td>\n",
              "      <td>36.0</td>\n",
              "      <td>26.0</td>\n",
              "      <td>1.0</td>\n",
              "      <td>1.0</td>\n",
              "      <td>0.0</td>\n",
              "      <td>46.0</td>\n",
              "      <td>107.0</td>\n",
              "      <td>0.0</td>\n",
              "      <td>0.0</td>\n",
              "      <td>310.0</td>\n",
              "      <td>910.0</td>\n",
              "      <td>1</td>\n",
              "    </tr>\n",
              "    <tr>\n",
              "      <th>5</th>\n",
              "      <td>1.0</td>\n",
              "      <td>0.0</td>\n",
              "      <td>60.0</td>\n",
              "      <td>36.0</td>\n",
              "      <td>0.0</td>\n",
              "      <td>1.0</td>\n",
              "      <td>0.0</td>\n",
              "      <td>75.0</td>\n",
              "      <td>214.0</td>\n",
              "      <td>3500.0</td>\n",
              "      <td>0.0</td>\n",
              "      <td>650.0</td>\n",
              "      <td>1645.0</td>\n",
              "      <td>1</td>\n",
              "    </tr>\n",
              "    <tr>\n",
              "      <th>6</th>\n",
              "      <td>29.0</td>\n",
              "      <td>0.0</td>\n",
              "      <td>60.0</td>\n",
              "      <td>44.0</td>\n",
              "      <td>0.0</td>\n",
              "      <td>1.0</td>\n",
              "      <td>0.0</td>\n",
              "      <td>75.0</td>\n",
              "      <td>125.0</td>\n",
              "      <td>10000.0</td>\n",
              "      <td>0.0</td>\n",
              "      <td>1600.0</td>\n",
              "      <td>1800.0</td>\n",
              "      <td>1</td>\n",
              "    </tr>\n",
              "    <tr>\n",
              "      <th>7</th>\n",
              "      <td>9.0</td>\n",
              "      <td>1.0</td>\n",
              "      <td>12.0</td>\n",
              "      <td>27.0</td>\n",
              "      <td>1.0</td>\n",
              "      <td>1.0</td>\n",
              "      <td>0.0</td>\n",
              "      <td>35.0</td>\n",
              "      <td>80.0</td>\n",
              "      <td>0.0</td>\n",
              "      <td>0.0</td>\n",
              "      <td>200.0</td>\n",
              "      <td>1093.0</td>\n",
              "      <td>1</td>\n",
              "    </tr>\n",
              "    <tr>\n",
              "      <th>8</th>\n",
              "      <td>0.0</td>\n",
              "      <td>0.0</td>\n",
              "      <td>60.0</td>\n",
              "      <td>32.0</td>\n",
              "      <td>0.0</td>\n",
              "      <td>1.0</td>\n",
              "      <td>1.0</td>\n",
              "      <td>90.0</td>\n",
              "      <td>107.0</td>\n",
              "      <td>15000.0</td>\n",
              "      <td>0.0</td>\n",
              "      <td>1200.0</td>\n",
              "      <td>1957.0</td>\n",
              "      <td>1</td>\n",
              "    </tr>\n",
              "    <tr>\n",
              "      <th>9</th>\n",
              "      <td>0.0</td>\n",
              "      <td>1.0</td>\n",
              "      <td>48.0</td>\n",
              "      <td>41.0</td>\n",
              "      <td>0.0</td>\n",
              "      <td>1.0</td>\n",
              "      <td>1.0</td>\n",
              "      <td>90.0</td>\n",
              "      <td>80.0</td>\n",
              "      <td>0.0</td>\n",
              "      <td>0.0</td>\n",
              "      <td>1200.0</td>\n",
              "      <td>1468.0</td>\n",
              "      <td>0</td>\n",
              "    </tr>\n",
              "  </tbody>\n",
              "</table>\n",
              "</div>\n",
              "      <button class=\"colab-df-convert\" onclick=\"convertToInteractive('df-d267ef46-b6d6-4c04-9721-7f2e9e932fcf')\"\n",
              "              title=\"Convert this dataframe to an interactive table.\"\n",
              "              style=\"display:none;\">\n",
              "        \n",
              "  <svg xmlns=\"http://www.w3.org/2000/svg\" height=\"24px\"viewBox=\"0 0 24 24\"\n",
              "       width=\"24px\">\n",
              "    <path d=\"M0 0h24v24H0V0z\" fill=\"none\"/>\n",
              "    <path d=\"M18.56 5.44l.94 2.06.94-2.06 2.06-.94-2.06-.94-.94-2.06-.94 2.06-2.06.94zm-11 1L8.5 8.5l.94-2.06 2.06-.94-2.06-.94L8.5 2.5l-.94 2.06-2.06.94zm10 10l.94 2.06.94-2.06 2.06-.94-2.06-.94-.94-2.06-.94 2.06-2.06.94z\"/><path d=\"M17.41 7.96l-1.37-1.37c-.4-.4-.92-.59-1.43-.59-.52 0-1.04.2-1.43.59L10.3 9.45l-7.72 7.72c-.78.78-.78 2.05 0 2.83L4 21.41c.39.39.9.59 1.41.59.51 0 1.02-.2 1.41-.59l7.78-7.78 2.81-2.81c.8-.78.8-2.07 0-2.86zM5.41 20L4 18.59l7.72-7.72 1.47 1.35L5.41 20z\"/>\n",
              "  </svg>\n",
              "      </button>\n",
              "      \n",
              "  <style>\n",
              "    .colab-df-container {\n",
              "      display:flex;\n",
              "      flex-wrap:wrap;\n",
              "      gap: 12px;\n",
              "    }\n",
              "\n",
              "    .colab-df-convert {\n",
              "      background-color: #E8F0FE;\n",
              "      border: none;\n",
              "      border-radius: 50%;\n",
              "      cursor: pointer;\n",
              "      display: none;\n",
              "      fill: #1967D2;\n",
              "      height: 32px;\n",
              "      padding: 0 0 0 0;\n",
              "      width: 32px;\n",
              "    }\n",
              "\n",
              "    .colab-df-convert:hover {\n",
              "      background-color: #E2EBFA;\n",
              "      box-shadow: 0px 1px 2px rgba(60, 64, 67, 0.3), 0px 1px 3px 1px rgba(60, 64, 67, 0.15);\n",
              "      fill: #174EA6;\n",
              "    }\n",
              "\n",
              "    [theme=dark] .colab-df-convert {\n",
              "      background-color: #3B4455;\n",
              "      fill: #D2E3FC;\n",
              "    }\n",
              "\n",
              "    [theme=dark] .colab-df-convert:hover {\n",
              "      background-color: #434B5C;\n",
              "      box-shadow: 0px 1px 3px 1px rgba(0, 0, 0, 0.15);\n",
              "      filter: drop-shadow(0px 1px 2px rgba(0, 0, 0, 0.3));\n",
              "      fill: #FFFFFF;\n",
              "    }\n",
              "  </style>\n",
              "\n",
              "      <script>\n",
              "        const buttonEl =\n",
              "          document.querySelector('#df-d267ef46-b6d6-4c04-9721-7f2e9e932fcf button.colab-df-convert');\n",
              "        buttonEl.style.display =\n",
              "          google.colab.kernel.accessAllowed ? 'block' : 'none';\n",
              "\n",
              "        async function convertToInteractive(key) {\n",
              "          const element = document.querySelector('#df-d267ef46-b6d6-4c04-9721-7f2e9e932fcf');\n",
              "          const dataTable =\n",
              "            await google.colab.kernel.invokeFunction('convertToInteractive',\n",
              "                                                     [key], {});\n",
              "          if (!dataTable) return;\n",
              "\n",
              "          const docLinkHtml = 'Like what you see? Visit the ' +\n",
              "            '<a target=\"_blank\" href=https://colab.research.google.com/notebooks/data_table.ipynb>data table notebook</a>'\n",
              "            + ' to learn more about interactive tables.';\n",
              "          element.innerHTML = '';\n",
              "          dataTable['output_type'] = 'display_data';\n",
              "          await google.colab.output.renderOutput(dataTable, element);\n",
              "          const docLink = document.createElement('div');\n",
              "          docLink.innerHTML = docLinkHtml;\n",
              "          element.appendChild(docLink);\n",
              "        }\n",
              "      </script>\n",
              "    </div>\n",
              "  </div>\n",
              "  "
            ]
          },
          "metadata": {},
          "execution_count": 5
        }
      ]
    },
    {
      "cell_type": "code",
      "source": [
        "X=df.iloc[:,0:13].values\n",
        "y=df.iloc[:,-1].values"
      ],
      "metadata": {
        "id": "Db1jLi9X6fNL"
      },
      "execution_count": null,
      "outputs": []
    },
    {
      "cell_type": "code",
      "source": [
        "df.shape"
      ],
      "metadata": {
        "colab": {
          "base_uri": "https://localhost:8080/"
        },
        "id": "laypazV57yGb",
        "outputId": "b01dc7c8-437f-4835-dcdc-60b0e3120f97"
      },
      "execution_count": null,
      "outputs": [
        {
          "output_type": "execute_result",
          "data": {
            "text/plain": [
              "(4375, 14)"
            ]
          },
          "metadata": {},
          "execution_count": 7
        }
      ]
    },
    {
      "cell_type": "code",
      "source": [
        "\n",
        "#df.groupby('Year')['Sex'].value_counts().unstack().plot.bar(ylabel='Status')\n",
        "df.groupby(['Status']).apply(lambda x: pd.Series(dict(\n",
        "positive_tweets=(df.Status == 1).sum(),\n",
        "negative_tweets=(df.Status == 0).sum(),\n",
        ")))"
      ],
      "metadata": {
        "colab": {
          "base_uri": "https://localhost:8080/",
          "height": 143
        },
        "id": "0IyR3wXm8N9A",
        "outputId": "14d054bd-664e-47f1-f41c-39833e823896"
      },
      "execution_count": null,
      "outputs": [
        {
          "output_type": "execute_result",
          "data": {
            "text/plain": [
              "        positive_tweets  negative_tweets\n",
              "Status                                  \n",
              "0                  3159             1216\n",
              "1                  3159             1216"
            ],
            "text/html": [
              "\n",
              "  <div id=\"df-7bc1f1dc-fe85-432e-8ef3-f5d2c2fa27ca\">\n",
              "    <div class=\"colab-df-container\">\n",
              "      <div>\n",
              "<style scoped>\n",
              "    .dataframe tbody tr th:only-of-type {\n",
              "        vertical-align: middle;\n",
              "    }\n",
              "\n",
              "    .dataframe tbody tr th {\n",
              "        vertical-align: top;\n",
              "    }\n",
              "\n",
              "    .dataframe thead th {\n",
              "        text-align: right;\n",
              "    }\n",
              "</style>\n",
              "<table border=\"1\" class=\"dataframe\">\n",
              "  <thead>\n",
              "    <tr style=\"text-align: right;\">\n",
              "      <th></th>\n",
              "      <th>positive_tweets</th>\n",
              "      <th>negative_tweets</th>\n",
              "    </tr>\n",
              "    <tr>\n",
              "      <th>Status</th>\n",
              "      <th></th>\n",
              "      <th></th>\n",
              "    </tr>\n",
              "  </thead>\n",
              "  <tbody>\n",
              "    <tr>\n",
              "      <th>0</th>\n",
              "      <td>3159</td>\n",
              "      <td>1216</td>\n",
              "    </tr>\n",
              "    <tr>\n",
              "      <th>1</th>\n",
              "      <td>3159</td>\n",
              "      <td>1216</td>\n",
              "    </tr>\n",
              "  </tbody>\n",
              "</table>\n",
              "</div>\n",
              "      <button class=\"colab-df-convert\" onclick=\"convertToInteractive('df-7bc1f1dc-fe85-432e-8ef3-f5d2c2fa27ca')\"\n",
              "              title=\"Convert this dataframe to an interactive table.\"\n",
              "              style=\"display:none;\">\n",
              "        \n",
              "  <svg xmlns=\"http://www.w3.org/2000/svg\" height=\"24px\"viewBox=\"0 0 24 24\"\n",
              "       width=\"24px\">\n",
              "    <path d=\"M0 0h24v24H0V0z\" fill=\"none\"/>\n",
              "    <path d=\"M18.56 5.44l.94 2.06.94-2.06 2.06-.94-2.06-.94-.94-2.06-.94 2.06-2.06.94zm-11 1L8.5 8.5l.94-2.06 2.06-.94-2.06-.94L8.5 2.5l-.94 2.06-2.06.94zm10 10l.94 2.06.94-2.06 2.06-.94-2.06-.94-.94-2.06-.94 2.06-2.06.94z\"/><path d=\"M17.41 7.96l-1.37-1.37c-.4-.4-.92-.59-1.43-.59-.52 0-1.04.2-1.43.59L10.3 9.45l-7.72 7.72c-.78.78-.78 2.05 0 2.83L4 21.41c.39.39.9.59 1.41.59.51 0 1.02-.2 1.41-.59l7.78-7.78 2.81-2.81c.8-.78.8-2.07 0-2.86zM5.41 20L4 18.59l7.72-7.72 1.47 1.35L5.41 20z\"/>\n",
              "  </svg>\n",
              "      </button>\n",
              "      \n",
              "  <style>\n",
              "    .colab-df-container {\n",
              "      display:flex;\n",
              "      flex-wrap:wrap;\n",
              "      gap: 12px;\n",
              "    }\n",
              "\n",
              "    .colab-df-convert {\n",
              "      background-color: #E8F0FE;\n",
              "      border: none;\n",
              "      border-radius: 50%;\n",
              "      cursor: pointer;\n",
              "      display: none;\n",
              "      fill: #1967D2;\n",
              "      height: 32px;\n",
              "      padding: 0 0 0 0;\n",
              "      width: 32px;\n",
              "    }\n",
              "\n",
              "    .colab-df-convert:hover {\n",
              "      background-color: #E2EBFA;\n",
              "      box-shadow: 0px 1px 2px rgba(60, 64, 67, 0.3), 0px 1px 3px 1px rgba(60, 64, 67, 0.15);\n",
              "      fill: #174EA6;\n",
              "    }\n",
              "\n",
              "    [theme=dark] .colab-df-convert {\n",
              "      background-color: #3B4455;\n",
              "      fill: #D2E3FC;\n",
              "    }\n",
              "\n",
              "    [theme=dark] .colab-df-convert:hover {\n",
              "      background-color: #434B5C;\n",
              "      box-shadow: 0px 1px 3px 1px rgba(0, 0, 0, 0.15);\n",
              "      filter: drop-shadow(0px 1px 2px rgba(0, 0, 0, 0.3));\n",
              "      fill: #FFFFFF;\n",
              "    }\n",
              "  </style>\n",
              "\n",
              "      <script>\n",
              "        const buttonEl =\n",
              "          document.querySelector('#df-7bc1f1dc-fe85-432e-8ef3-f5d2c2fa27ca button.colab-df-convert');\n",
              "        buttonEl.style.display =\n",
              "          google.colab.kernel.accessAllowed ? 'block' : 'none';\n",
              "\n",
              "        async function convertToInteractive(key) {\n",
              "          const element = document.querySelector('#df-7bc1f1dc-fe85-432e-8ef3-f5d2c2fa27ca');\n",
              "          const dataTable =\n",
              "            await google.colab.kernel.invokeFunction('convertToInteractive',\n",
              "                                                     [key], {});\n",
              "          if (!dataTable) return;\n",
              "\n",
              "          const docLinkHtml = 'Like what you see? Visit the ' +\n",
              "            '<a target=\"_blank\" href=https://colab.research.google.com/notebooks/data_table.ipynb>data table notebook</a>'\n",
              "            + ' to learn more about interactive tables.';\n",
              "          element.innerHTML = '';\n",
              "          dataTable['output_type'] = 'display_data';\n",
              "          await google.colab.output.renderOutput(dataTable, element);\n",
              "          const docLink = document.createElement('div');\n",
              "          docLink.innerHTML = docLinkHtml;\n",
              "          element.appendChild(docLink);\n",
              "        }\n",
              "      </script>\n",
              "    </div>\n",
              "  </div>\n",
              "  "
            ]
          },
          "metadata": {},
          "execution_count": 8
        }
      ]
    },
    {
      "cell_type": "code",
      "source": [
        "df.hist(column='Status')"
      ],
      "metadata": {
        "colab": {
          "base_uri": "https://localhost:8080/",
          "height": 316
        },
        "id": "BokS7lwEv2Q6",
        "outputId": "c22093f7-55c1-4281-ad98-3fa25a3508a6"
      },
      "execution_count": null,
      "outputs": [
        {
          "output_type": "execute_result",
          "data": {
            "text/plain": [
              "array([[<matplotlib.axes._subplots.AxesSubplot object at 0x7fec0e9647d0>]],\n",
              "      dtype=object)"
            ]
          },
          "metadata": {},
          "execution_count": 9
        },
        {
          "output_type": "display_data",
          "data": {
            "text/plain": [
              "<Figure size 432x288 with 1 Axes>"
            ],
            "image/png": "[encoded data removed]"
          },
          "metadata": {
            "needs_background": "light"
          }
        }
      ]
    },
    {
      "cell_type": "code",
      "source": [
        "from sklearn.model_selection import train_test_split\n",
        "X_train, X_test, y_train, y_test = train_test_split(X, y, test_size=0.5, random_state=1)\n"
      ],
      "metadata": {
        "id": "aIC_Jg2s9Q5A"
      },
      "execution_count": null,
      "outputs": []
    },
    {
      "cell_type": "code",
      "source": [
        "from sklearn.tree import DecisionTreeClassifier\n",
        "import sklearn.tree as tree\n",
        "from sklearn import metrics\n",
        "from sklearn.metrics import precision_score\n",
        "from sklearn.metrics import recall_score\n",
        "import matplotlib.pyplot as plt\n"
      ],
      "metadata": {
        "id": "8pbTMdkQ_bOT"
      },
      "execution_count": null,
      "outputs": []
    },
    {
      "cell_type": "code",
      "source": [
        "Tree = DecisionTreeClassifier(criterion=\"gini\",random_state=1)\n",
        "Tree.fit(X_train,y_train)\n",
        "predTree = Tree.predict(X_test)"
      ],
      "metadata": {
        "id": "trpKwd1l_u7n"
      },
      "execution_count": null,
      "outputs": []
    },
    {
      "cell_type": "code",
      "source": [
        "tree.plot_tree(Tree)\n",
        "plt.show()"
      ],
      "metadata": {
        "colab": {
          "base_uri": "https://localhost:8080/",
          "height": 248
        },
        "id": "TFx750v3Adq4",
        "outputId": "4e5ad3e7-418e-418c-93c3-8413eb709e96"
      },
      "execution_count": null,
      "outputs": [
        {
          "output_type": "display_data",
          "data": {
            "text/plain": [
              "<Figure size 432x288 with 1 Axes>"
            ],
            "image/png": "[encoded data removed]"
          },
          "metadata": {
            "needs_background": "light"
          }
        }
      ]
    },
    {
      "cell_type": "code",
      "source": [
        "from sklearn.neighbors import KNeighborsClassifier\n",
        "k = 5\n",
        "neigh = KNeighborsClassifier(n_neighbors = k).fit(X_train,y_train)\n",
        "neigh"
      ],
      "metadata": {
        "colab": {
          "base_uri": "https://localhost:8080/"
        },
        "id": "A4JVo7X-BWW_",
        "outputId": "4d9142a5-4cae-45f0-ecf3-853f77cd4a31"
      },
      "execution_count": null,
      "outputs": [
        {
          "output_type": "execute_result",
          "data": {
            "text/plain": [
              "KNeighborsClassifier()"
            ]
          },
          "metadata": {},
          "execution_count": 14
        }
      ]
    },
    {
      "cell_type": "code",
      "source": [
        "yhat = neigh.predict(X_test)\n",
        "yhat[0:5]"
      ],
      "metadata": {
        "colab": {
          "base_uri": "https://localhost:8080/"
        },
        "id": "nTTZaJiUB60I",
        "outputId": "acd0e6bc-72a2-49c6-a18b-9ad20e139c77"
      },
      "execution_count": null,
      "outputs": [
        {
          "output_type": "execute_result",
          "data": {
            "text/plain": [
              "array([1, 0, 1, 1, 1])"
            ]
          },
          "metadata": {},
          "execution_count": 15
        }
      ]
    },
    {
      "cell_type": "code",
      "source": [
        " from sklearn.neural_network import MLPClassifier\n",
        " clf = MLPClassifier(random_state=1,hidden_layer_sizes=(40,20))"
      ],
      "metadata": {
        "id": "KINVSY18Dvny"
      },
      "execution_count": null,
      "outputs": []
    },
    {
      "cell_type": "code",
      "source": [
        "clf.fit(X_train, y_train)\n"
      ],
      "metadata": {
        "colab": {
          "base_uri": "https://localhost:8080/"
        },
        "id": "wuV4SgbbEMg4",
        "outputId": "8b987ea9-6857-4c6f-daab-910fdc3440d6"
      },
      "execution_count": null,
      "outputs": [
        {
          "output_type": "execute_result",
          "data": {
            "text/plain": [
              "MLPClassifier(hidden_layer_sizes=(40, 20), random_state=1)"
            ]
          },
          "metadata": {},
          "execution_count": 17
        }
      ]
    },
    {
      "cell_type": "code",
      "source": [
        "y_pred=clf.predict(X_test)"
      ],
      "metadata": {
        "id": "edTCV5zDFg5l"
      },
      "execution_count": null,
      "outputs": []
    },
    {
      "cell_type": "markdown",
      "source": [
        "# ***Accuracy of 3 algo :***"
      ],
      "metadata": {
        "id": "YxeJB1VdERB8"
      }
    },
    {
      "cell_type": "code",
      "source": [
        "print(confusion_matrix(predTree, y_test))\n",
        "print(\"DecisionTrees's Accuracy: \", metrics.accuracy_score(y_test, predTree))\n",
        "print('precision_score of CART : ', precision_score(y_test, predTree))\n",
        "print('recall_score of CART : ', recall_score(y_test, predTree))"
      ],
      "metadata": {
        "colab": {
          "base_uri": "https://localhost:8080/"
        },
        "id": "JFJFiOHIDFM6",
        "outputId": "c95af53f-6ab8-4c00-beda-c6032ed92757"
      },
      "execution_count": null,
      "outputs": [
        {
          "output_type": "stream",
          "name": "stdout",
          "text": [
            "[[ 325  318]\n",
            " [ 279 1266]]\n",
            "DecisionTrees's Accuracy:  0.7271480804387569\n",
            "precision_score of CART :  0.8194174757281554\n",
            "recall_score of CART :  0.7992424242424242\n"
          ]
        }
      ]
    },
    {
      "cell_type": "code",
      "source": [
        "print(confusion_matrix(yhat, y_test))\n",
        "print(\"Train set Accuracy of KNN: \", metrics.accuracy_score(y_train, neigh.predict(X_train)))\n",
        "print(\"Test set Accuracy of KNN: \", metrics.accuracy_score(y_test, yhat))\n",
        "print('precision_score of KNN : ', precision_score(y_test, yhat))\n",
        "print('recall_score of KNN : ', recall_score(y_test, yhat))\n"
      ],
      "metadata": {
        "colab": {
          "base_uri": "https://localhost:8080/"
        },
        "id": "ipesoa1iE8Rt",
        "outputId": "efb2b352-1335-4d44-dea4-fb8d8c8ab68f"
      },
      "execution_count": null,
      "outputs": [
        {
          "output_type": "stream",
          "name": "stdout",
          "text": [
            "[[ 189  187]\n",
            " [ 415 1397]]\n",
            "Train set Accuracy of KNN:  0.7965249199817102\n",
            "Test set Accuracy of KNN:  0.7248628884826326\n",
            "precision_score of KNN :  0.7709713024282561\n",
            "recall_score of KNN :  0.8819444444444444\n"
          ]
        }
      ]
    },
    {
      "cell_type": "code",
      "source": [
        "print(confusion_matrix(y_pred, y_test))\n",
        "print(\"Train set Accuracy of NEURAL-N: \", metrics.accuracy_score(y_train, clf.predict(X_train)))\n",
        "print(\"Test set Accuracy of NEURAL-N: \", metrics.accuracy_score(y_test, y_pred))\n",
        "print('precision_score of NEURAL-N : ', precision_score(y_test, y_pred))\n",
        "print('recall_score of NEURAL-N : ', recall_score(y_test, y_pred))\n"
      ],
      "metadata": {
        "colab": {
          "base_uri": "https://localhost:8080/"
        },
        "id": "S4j-0eBWFziS",
        "outputId": "5aacb10d-6156-4631-c6a7-8ba32dd4cf42"
      },
      "execution_count": null,
      "outputs": [
        {
          "output_type": "stream",
          "name": "stdout",
          "text": [
            "[[ 285  342]\n",
            " [ 319 1242]]\n",
            "Train set Accuracy of NEURAL-N:  0.7091906721536351\n",
            "Test set Accuracy of NEURAL-N:  0.6978976234003657\n",
            "precision_score of NEURAL-N :  0.7956438180653427\n",
            "recall_score of NEURAL-N :  0.7840909090909091\n"
          ]
        }
      ]
    },
    {
      "cell_type": "markdown",
      "source": [
        "# ***Normalisation :***"
      ],
      "metadata": {
        "id": "aTYoP1b4H5qO"
      }
    },
    {
      "cell_type": "code",
      "source": [
        "from sklearn.preprocessing import StandardScaler\n",
        "SS=StandardScaler()\n",
        "SS.fit(X_train)\n",
        "X_train_norm=SS.transform(X_train)\n",
        "X_test_norm=SS.transform(X_test)\n"
      ],
      "metadata": {
        "id": "bxIzACwSIQSM"
      },
      "execution_count": null,
      "outputs": []
    },
    {
      "cell_type": "code",
      "source": [
        "Tree = DecisionTreeClassifier(criterion=\"gini\",random_state=1)\n",
        "Tree.fit(X_train_norm,y_train)\n",
        "predTree = Tree.predict(X_test_norm)\n"
      ],
      "metadata": {
        "id": "9UcmCOC6KgpY"
      },
      "execution_count": null,
      "outputs": []
    },
    {
      "cell_type": "code",
      "source": [
        "k = 5\n",
        "neigh = KNeighborsClassifier(n_neighbors = k).fit(X_train_norm,y_train)\n",
        "yhat = neigh.predict(X_test_norm)"
      ],
      "metadata": {
        "id": "A-hed7oFK2HR"
      },
      "execution_count": null,
      "outputs": []
    },
    {
      "cell_type": "code",
      "source": [
        "clf = MLPClassifier(random_state=1,hidden_layer_sizes=(40,20))\n",
        "clf.fit(X_train_norm, y_train)\n",
        "y_pred=clf.predict(X_test_norm)"
      ],
      "metadata": {
        "id": "4RC99czmK3Dt"
      },
      "execution_count": null,
      "outputs": []
    },
    {
      "cell_type": "code",
      "source": [
        "print(confusion_matrix(predTree, y_test))\n",
        "print(\"DecisionTrees's Accuracy: \", metrics.accuracy_score(y_test, predTree))\n",
        "print('precision_score of CART : ', precision_score(y_test, predTree))\n",
        "print('recall_score of CART : ', recall_score(y_test, predTree))"
      ],
      "metadata": {
        "colab": {
          "base_uri": "https://localhost:8080/"
        },
        "id": "0Yed9oTBLEgp",
        "outputId": "0c4d5331-7ce5-477e-f418-b20d3aa30d10"
      },
      "execution_count": null,
      "outputs": [
        {
          "output_type": "stream",
          "name": "stdout",
          "text": [
            "[[ 322  315]\n",
            " [ 282 1269]]\n",
            "DecisionTrees's Accuracy:  0.7271480804387569\n",
            "precision_score of CART :  0.8181818181818182\n",
            "recall_score of CART :  0.8011363636363636\n"
          ]
        }
      ]
    },
    {
      "cell_type": "code",
      "source": [
        "print(confusion_matrix(yhat, y_test))\n",
        "print(\"Train set Accuracy of KNN: \", metrics.accuracy_score(y_train, neigh.predict(X_train_norm)))\n",
        "print(\"Test set Accuracy of KNN: \", metrics.accuracy_score(y_test, yhat))\n",
        "print('precision_score of KNN : ', precision_score(y_test, yhat))\n",
        "print('recall_score of KNN : ', recall_score(y_test, yhat))"
      ],
      "metadata": {
        "colab": {
          "base_uri": "https://localhost:8080/"
        },
        "id": "8lNkSFTcLJIV",
        "outputId": "d1c0b769-6fbc-4d30-96d2-0a863ad277d9"
      },
      "execution_count": null,
      "outputs": [
        {
          "output_type": "stream",
          "name": "stdout",
          "text": [
            "[[ 286  223]\n",
            " [ 318 1361]]\n",
            "Train set Accuracy of KNN:  0.8271604938271605\n",
            "Test set Accuracy of KNN:  0.7527422303473492\n",
            "precision_score of KNN :  0.8106015485407981\n",
            "recall_score of KNN :  0.8592171717171717\n"
          ]
        }
      ]
    },
    {
      "cell_type": "code",
      "source": [
        "print(confusion_matrix(y_pred, y_test))\n",
        "print(\"Train set Accuracy of NEURAL-N: \", metrics.accuracy_score(y_train, clf.predict(X_train_norm)))\n",
        "print(\"Test set Accuracy of NEURAL-N: \", metrics.accuracy_score(y_test, y_pred))\n",
        "print('precision_score of NEURAL-N : ', precision_score(y_test, y_pred))\n",
        "print('recall_score of NEURAL-N : ', recall_score(y_test, y_pred))"
      ],
      "metadata": {
        "colab": {
          "base_uri": "https://localhost:8080/"
        },
        "id": "lCh6oHxKLOHG",
        "outputId": "03c8da16-5108-46ef-b7c5-53d935ab0281"
      },
      "execution_count": null,
      "outputs": [
        {
          "output_type": "stream",
          "name": "stdout",
          "text": [
            "[[ 342  227]\n",
            " [ 262 1357]]\n",
            "Train set Accuracy of NEURAL-N:  0.8673982624599909\n",
            "Test set Accuracy of NEURAL-N:  0.776508226691042\n",
            "precision_score of NEURAL-N :  0.8381717109326745\n",
            "recall_score of NEURAL-N :  0.8566919191919192\n"
          ]
        }
      ]
    },
    {
      "cell_type": "markdown",
      "source": [
        "# ***PCA :***"
      ],
      "metadata": {
        "id": "iFIfKUdXNsrY"
      }
    },
    {
      "cell_type": "code",
      "source": [
        "from sklearn.decomposition import PCA\n",
        "from sklearn import decomposition\n",
        "pca=decomposition.PCA(n_components=3)\n",
        "pca.fit(X_train_norm)\n",
        "X_pca_train=pca.transform(X_train_norm)\n",
        "X_pca_train=np.concatenate((X_train_norm,X_pca_train),axis=1)\n",
        "X_pca_test=pca.transform(X_test_norm)\n",
        "X_pca_test=np.concatenate((X_test_norm,X_pca_test),axis=1)"
      ],
      "metadata": {
        "id": "kuiks05LN1QY"
      },
      "execution_count": null,
      "outputs": []
    },
    {
      "cell_type": "code",
      "source": [
        "Tree = DecisionTreeClassifier(criterion=\"gini\",random_state=1)\n",
        "Tree.fit(X_pca_train,y_train)\n",
        "predTree = Tree.predict(X_pca_test)"
      ],
      "metadata": {
        "id": "HFR6tXTRO8qA"
      },
      "execution_count": null,
      "outputs": []
    },
    {
      "cell_type": "code",
      "source": [
        "k = 5\n",
        "neigh = KNeighborsClassifier(n_neighbors = k).fit(X_pca_train,y_train)\n",
        "yhat = neigh.predict(X_pca_test)"
      ],
      "metadata": {
        "id": "PWouQwARPCoV"
      },
      "execution_count": null,
      "outputs": []
    },
    {
      "cell_type": "code",
      "source": [
        "clf = MLPClassifier(random_state=1,hidden_layer_sizes=(40,20))\n",
        "clf.fit(X_pca_train, y_train)\n",
        "y_pred=clf.predict(X_pca_test)"
      ],
      "metadata": {
        "id": "pa4S9-mNPGsV"
      },
      "execution_count": null,
      "outputs": []
    },
    {
      "cell_type": "code",
      "source": [
        "print(confusion_matrix(predTree, y_test))\n",
        "print(\"DecisionTrees's Accuracy: \", metrics.accuracy_score(y_test, predTree))\n",
        "print('precision_score of CART : ', precision_score(y_test, predTree))\n",
        "print('recall_score of CART : ', recall_score(y_test, predTree))"
      ],
      "metadata": {
        "colab": {
          "base_uri": "https://localhost:8080/"
        },
        "id": "yr9-hcWJQk9Z",
        "outputId": "56e9306a-6811-44e2-8ebc-675d3268bde5"
      },
      "execution_count": null,
      "outputs": [
        {
          "output_type": "stream",
          "name": "stdout",
          "text": [
            "[[ 351  324]\n",
            " [ 253 1260]]\n",
            "DecisionTrees's Accuracy:  0.7362888482632541\n",
            "precision_score of CART :  0.8327825512227363\n",
            "recall_score of CART :  0.7954545454545454\n"
          ]
        }
      ]
    },
    {
      "cell_type": "code",
      "source": [
        "print(confusion_matrix(yhat, y_test))\n",
        "print(\"Train set Accuracy of KNN: \", metrics.accuracy_score(y_train, neigh.predict(X_pca_train)))\n",
        "print(\"Test set Accuracy of KNN: \", metrics.accuracy_score(y_test, yhat))\n",
        "print('precision_score of KNN : ', precision_score(y_test, yhat))\n",
        "print('recall_score of KNN : ', recall_score(y_test, yhat))"
      ],
      "metadata": {
        "colab": {
          "base_uri": "https://localhost:8080/"
        },
        "id": "jaltNRbMQlyC",
        "outputId": "aabba749-7696-4882-c5f1-8a1b6a4924bc"
      },
      "execution_count": null,
      "outputs": [
        {
          "output_type": "stream",
          "name": "stdout",
          "text": [
            "[[ 283  212]\n",
            " [ 321 1372]]\n",
            "Train set Accuracy of KNN:  0.8248742569730224\n",
            "Test set Accuracy of KNN:  0.756398537477148\n",
            "precision_score of KNN :  0.8103957471943296\n",
            "recall_score of KNN :  0.8661616161616161\n"
          ]
        }
      ]
    },
    {
      "cell_type": "code",
      "source": [
        "print(confusion_matrix(y_pred, y_test))\n",
        "print(\"Train set Accuracy of NEURAL-N: \", metrics.accuracy_score(y_train, clf.predict(X_pca_train)))\n",
        "print(\"Test set Accuracy of NEURAL-N: \", metrics.accuracy_score(y_test, y_pred))\n",
        "print('precision_score of NEURAL-N : ', precision_score(y_test, y_pred))\n",
        "print('recall_score of NEURAL-N : ', recall_score(y_test, y_pred))"
      ],
      "metadata": {
        "colab": {
          "base_uri": "https://localhost:8080/"
        },
        "id": "gyGOVkG_QpLi",
        "outputId": "fc06b224-ff7e-4efd-bb1c-3b290430cf56"
      },
      "execution_count": null,
      "outputs": [
        {
          "output_type": "stream",
          "name": "stdout",
          "text": [
            "[[ 318  217]\n",
            " [ 286 1367]]\n",
            "Train set Accuracy of NEURAL-N:  0.8692272519433013\n",
            "Test set Accuracy of NEURAL-N:  0.770109689213894\n",
            "precision_score of NEURAL-N :  0.8269812462189957\n",
            "recall_score of NEURAL-N :  0.8630050505050505\n"
          ]
        }
      ]
    },
    {
      "cell_type": "markdown",
      "source": [
        "# **Random Forest :**"
      ],
      "metadata": {
        "id": "MoMFcCXKVurC"
      }
    },
    {
      "cell_type": "code",
      "source": [
        "from sklearn.ensemble import RandomForestClassifier\n",
        "clf = RandomForestClassifier(n_estimators=100)\n",
        "clf.fit(X_train_norm, y_train)\n",
        "importances=clf.feature_importances_\n",
        "std = np.std([tree.feature_importances_ for tree in clf.estimators_],axis=0)\n",
        "sorted_idx = np.argsort(importances)[::-1]\n",
        "features =df.columns\n",
        "print(features[sorted_idx])\n",
        "padding = np.arange(X_train_norm.size/len(X_train_norm)) + 0.5\n",
        "plt.barh(padding, importances[sorted_idx],xerr=std[sorted_idx], align='center')\n",
        "plt.yticks(padding, features[sorted_idx])\n",
        "plt.xlabel(\"Relative Importance\")\n",
        "plt.title(\"Variable Importance\")\n",
        "plt.show()"
      ],
      "metadata": {
        "colab": {
          "base_uri": "https://localhost:8080/",
          "height": 347
        },
        "id": "7yJRL8SwV4jw",
        "outputId": "1ad413bc-9325-4fb6-c69b-030ea008f5d7"
      },
      "execution_count": null,
      "outputs": [
        {
          "output_type": "stream",
          "name": "stdout",
          "text": [
            "Index(['Income', 'Seniority', 'Price', 'Amount', 'Age', 'Assets', 'Expenses',\n",
            "       'Records', 'Time', 'Job', 'Debt', 'Home', 'Marital'],\n",
            "      dtype='object')\n"
          ]
        },
        {
          "output_type": "display_data",
          "data": {
            "text/plain": [
              "<Figure size 432x288 with 1 Axes>"
            ],
            "image/png": "[encoded data removed]"
          },
          "metadata": {
            "needs_background": "light"
          }
        }
      ]
    },
    {
      "cell_type": "code",
      "source": [
        "KNN=KNeighborsClassifier(n_neighbors=5)\n",
        "scores=np.zeros(X_train_norm.shape[1]+1)\n",
        "for f in np.arange(0, X_train_norm.shape[1]+1):\n",
        " X1_f = X_train_norm[:,sorted_idx[:f+1]]\n",
        " X2_f = X_test_norm[:,sorted_idx[:f+1]]\n",
        " KNN.fit(X1_f,y_train)\n",
        " YKNN=KNN.predict(X2_f)\n",
        " scores[f]=np.round(metrics.accuracy_score(y_test,YKNN),3)\n",
        "plt.plot(scores)\n",
        "plt.xlabel(\"Nombre de Variables\")\n",
        "plt.ylabel(\"Accuracy\")\n",
        "plt.title(\"Evolution de l'accuracy en fonction des variables\")\n",
        "plt.show()"
      ],
      "metadata": {
        "colab": {
          "base_uri": "https://localhost:8080/",
          "height": 295
        },
        "id": "g32S8XVaYKpu",
        "outputId": "8719b751-cf69-42d9-a72e-e9a6e116f072"
      },
      "execution_count": null,
      "outputs": [
        {
          "output_type": "display_data",
          "data": {
            "text/plain": [
              "<Figure size 432x288 with 1 Axes>"
            ],
            "image/png": "[encoded data removed]"
          },
          "metadata": {
            "needs_background": "light"
          }
        }
      ]
    },
    {
      "cell_type": "markdown",
      "source": [
        "# **GridSearchCV :**"
      ],
      "metadata": {
        "id": "A2FiOpsyfdKf"
      }
    },
    {
      "cell_type": "code",
      "source": [
        "from sklearn.model_selection import GridSearchCV\n",
        "parameter_space = {\n",
        "    'hidden_layer_sizes': [(30,10),(50,30)],\n",
        "    'activation': ['tanh', 'relu'],\n",
        "    'solver': ['lbfgs','sgd', 'adam'],\n",
        "    'alpha': [0.0001, 0.05],\n",
        "    'learning_rate': ['constant','adaptive'],\n",
        "}\n",
        "grid_NEURAL_NN = GridSearchCV(MLPClassifier(),parameter_space)\n",
        "\n",
        "grid_NEURAL_NN.fit(X_train_norm, y_train)\n",
        " \n",
        "grid_predictions_NEURAL_NN = grid_NEURAL_NN.predict(X_test_norm) \n",
        "   \n",
        "print('NEURAL_NN :',metrics.classification_report(y_test, grid_predictions_NEURAL_NN))\n"
      ],
      "metadata": {
        "colab": {
          "base_uri": "https://localhost:8080/"
        },
        "id": "wsHSM9XlfbIr",
        "outputId": "f8f2f8ab-674b-41a3-9e4c-b66cfcbf1f31"
      },
      "execution_count": null,
      "outputs": [
        {
          "output_type": "stream",
          "name": "stdout",
          "text": [
            "NEURAL_NN :               precision    recall  f1-score   support\n",
            "\n",
            "           0       0.67      0.53      0.59       604\n",
            "           1       0.83      0.90      0.87      1584\n",
            "\n",
            "    accuracy                           0.80      2188\n",
            "   macro avg       0.75      0.71      0.73      2188\n",
            "weighted avg       0.79      0.80      0.79      2188\n",
            "\n"
          ]
        }
      ]
    },
    {
      "cell_type": "markdown",
      "source": [
        "# **Pipline and Pickle :**"
      ],
      "metadata": {
        "id": "8piX5s9wYK1t"
      }
    },
    {
      "cell_type": "code",
      "source": [
        "from sklearn.pipeline import Pipeline\n",
        "import pickle\n",
        "pipe = Pipeline([('SS', StandardScaler()),('pca',PCA()), ('clf', MLPClassifier())])\n",
        "pipe.fit(X_train, y_train)\n",
        "print(pipe.score(X_test, y_test))\n",
        "s = pickle.dumps(pipe)\n",
        "pipe2 = pickle.loads(s)\n",
        "print(pipe2.score(X_test, y_test))"
      ],
      "metadata": {
        "colab": {
          "base_uri": "https://localhost:8080/"
        },
        "id": "u5FGrWR1J0m3",
        "outputId": "f5e0f251-0fe6-4d4c-e364-d51fd63d73f6"
      },
      "execution_count": null,
      "outputs": [
        {
          "output_type": "stream",
          "name": "stdout",
          "text": [
            "0.7861060329067642\n",
            "0.7861060329067642\n"
          ]
        }
      ]
    },
    {
      "cell_type": "markdown",
      "source": [
        "# **Comparaison de plusieurs algorithmes d’apprentissage :**"
      ],
      "metadata": {
        "id": "gaGiqSo6gKnf"
      }
    },
    {
      "cell_type": "markdown",
      "source": [
        "## **naive_bayes :**"
      ],
      "metadata": {
        "id": "0mkpXlk3s_hz"
      }
    },
    {
      "cell_type": "code",
      "source": [
        "from sklearn.model_selection import cross_val_score\n",
        "from sklearn.naive_bayes import GaussianNB\n",
        "from sklearn.metrics import make_scorer,accuracy_score\n",
        "from sklearn import model_selection\n",
        "import time\n",
        "start = time.time()\n",
        "\n",
        "gnb = GaussianNB()\n",
        "y_pred_gnb = gnb.fit(X_pca_train, y_train).predict(X_pca_test)\n",
        "\n",
        "\n",
        "#-----------------1-------------------------------\n",
        "# print(cross_val_score(gnb, X, y, scoring=\"roc_auc\", cv = 10))\n",
        "mean_score = cross_val_score(gnb, X, y, scoring=\"roc_auc\", cv = 10).mean()\n",
        "std_score = cross_val_score(gnb, X, y, scoring=\"roc_auc\", cv = 10).std()\n",
        "print('mean_score : ',mean_score)\n",
        "print('std_score : ',std_score)\n",
        "\n",
        "#-----------------2-------------------------------\n",
        "\n",
        "scores =model_selection.cross_validate(gnb,X,y,scoring=('accuracy', 'precision','recall'),return_train_score=True)\n",
        "\n",
        "print('test_accuracy mean : ',scores ['test_accuracy'].mean())\n",
        "print('test_accuracy std : ',scores ['test_accuracy'].std())\n",
        "print('test_precision mean : ',scores ['test_precision'].mean())\n",
        "print('test_precision std : ',scores ['test_precision'].std())\n",
        "print('test_recall mean : ',scores ['test_recall'].mean())\n",
        "print('test_recall std : ',scores ['test_recall'].std())\n",
        "\n",
        "\n",
        "print(\"Test set Accuracy of naivebayes : \", metrics.accuracy_score(y_test, y_pred_gnb))\n",
        "print('precision_score of naivebayes : ', precision_score(y_test, y_pred_gnb))\n",
        "print('recall_score of naivebayes : ', recall_score(y_test, y_pred_gnb))\n",
        "\n",
        "end = time.time()\n",
        "#----------------3-----------------------\n",
        "print('TIME : ',end - start, \"seconds\")\n"
      ],
      "metadata": {
        "colab": {
          "base_uri": "https://localhost:8080/"
        },
        "id": "yPWMykVsb5Fa",
        "outputId": "d90ae40c-e78b-4afc-c9f5-eddbf21107f6"
      },
      "execution_count": null,
      "outputs": [
        {
          "output_type": "stream",
          "name": "stdout",
          "text": [
            "mean_score :  0.7896031412224181\n",
            "std_score :  0.018456198390468734\n",
            "test_accuracy mean :  0.7645714285714286\n",
            "test_accuracy std :  0.013959708785922268\n",
            "test_precision mean :  0.8282756574554277\n",
            "test_precision std :  0.012139666419848384\n",
            "test_recall mean :  0.8509002186603543\n",
            "test_recall std :  0.03013814503078259\n",
            "Test set Accuracy of naivebayes :  0.7504570383912249\n",
            "precision_score of naivebayes :  0.8383311603650587\n",
            "recall_score of naivebayes :  0.8118686868686869\n",
            "TIME :  0.18730926513671875 seconds\n"
          ]
        }
      ]
    },
    {
      "cell_type": "markdown",
      "source": [
        "# **CART :**"
      ],
      "metadata": {
        "id": "ECjwHkBrxeAt"
      }
    },
    {
      "cell_type": "code",
      "source": [
        "start = time.time()\n",
        "\n",
        "Tree = DecisionTreeClassifier(criterion=\"gini\",random_state=1)\n",
        "Tree.fit(X_pca_train,y_train)\n",
        "y_pred_tree = Tree.predict(X_pca_test)\n",
        "\n",
        "#-----------------1-------------------------------\n",
        "\n",
        "mean_score = cross_val_score(Tree, X, y, scoring=\"roc_auc\", cv = 10).mean()\n",
        "std_score = cross_val_score(Tree, X, y, scoring=\"roc_auc\", cv = 10).std()\n",
        "print('mean_score : ',mean_score)\n",
        "print('std_score : ',std_score)\n",
        "\n",
        "#-----------------2-------------------------------\n",
        "\n",
        "scores = model_selection.cross_validate(Tree,X,y,scoring=('accuracy', 'precision','recall'),return_train_score=True)\n",
        "\n",
        "print('test_accuracy mean : ',scores ['test_accuracy'].mean())\n",
        "print('test_accuracy std : ',scores ['test_accuracy'].std())\n",
        "print('test_precision mean : ',scores ['test_precision'].mean())\n",
        "print('test_precision std : ',scores ['test_precision'].std())\n",
        "print('test_recall mean : ',scores ['test_recall'].mean())\n",
        "print('test_recall std : ',scores ['test_recall'].std())\n",
        "\n",
        "\n",
        "print(\"Test set Accuracy of CART : \", metrics.accuracy_score(y_test, y_pred_tree))\n",
        "print('precision_score of CART : ', precision_score(y_test, y_pred_tree))\n",
        "print('recall_score of CART : ', recall_score(y_test, y_pred_tree))\n",
        "\n",
        "end = time.time()\n",
        "#----------------3-----------------------\n",
        "print('TIME : ',end - start, \"seconds\")\n",
        "\n"
      ],
      "metadata": {
        "id": "LBOFjqzpiCkU",
        "colab": {
          "base_uri": "https://localhost:8080/"
        },
        "outputId": "3c792da2-b081-444d-b1a4-6b8aca7eb98f"
      },
      "execution_count": null,
      "outputs": [
        {
          "output_type": "stream",
          "name": "stdout",
          "text": [
            "mean_score :  0.6472359812187956\n",
            "std_score :  0.023114257686935542\n",
            "test_accuracy mean :  0.7131428571428572\n",
            "test_accuracy std :  0.010696556760500662\n",
            "test_precision mean :  0.8019289354666057\n",
            "test_precision std :  0.015415305257664902\n",
            "test_recall mean :  0.8011976168027442\n",
            "test_recall std :  0.014972739436606364\n",
            "Test set Accuracy of CART :  0.7362888482632541\n",
            "precision_score of CART :  0.8327825512227363\n",
            "recall_score of CART :  0.7954545454545454\n",
            "TIME :  0.6846733093261719 seconds\n"
          ]
        }
      ]
    },
    {
      "cell_type": "markdown",
      "source": [
        "# **Id3 :**"
      ],
      "metadata": {
        "id": "oI5XlpqvQ0D-"
      }
    },
    {
      "cell_type": "code",
      "source": [
        "!pip install decision-tree-id3"
      ],
      "metadata": {
        "colab": {
          "base_uri": "https://localhost:8080/"
        },
        "id": "A6UmCBIHQNRc",
        "outputId": "5b6fc306-43fb-4506-e498-341014186c1a"
      },
      "execution_count": null,
      "outputs": [
        {
          "output_type": "stream",
          "name": "stdout",
          "text": [
            "Looking in indexes: https://pypi.org/simple, https://us-python.pkg.dev/colab-wheels/public/simple/\n",
            "Requirement already satisfied: decision-tree-id3 in /usr/local/lib/python3.7/dist-packages (0.1.2)\n",
            "Requirement already satisfied: numpy>=1.6.1 in /usr/local/lib/python3.7/dist-packages (from decision-tree-id3) (1.21.6)\n",
            "Requirement already satisfied: scikit-learn>=0.17 in /usr/local/lib/python3.7/dist-packages (from decision-tree-id3) (1.0.2)\n",
            "Requirement already satisfied: nose>=1.1.2 in /usr/local/lib/python3.7/dist-packages (from decision-tree-id3) (1.3.7)\n",
            "Requirement already satisfied: joblib>=0.11 in /usr/local/lib/python3.7/dist-packages (from scikit-learn>=0.17->decision-tree-id3) (1.2.0)\n",
            "Requirement already satisfied: threadpoolctl>=2.0.0 in /usr/local/lib/python3.7/dist-packages (from scikit-learn>=0.17->decision-tree-id3) (3.1.0)\n",
            "Requirement already satisfied: scipy>=1.1.0 in /usr/local/lib/python3.7/dist-packages (from scikit-learn>=0.17->decision-tree-id3) (1.7.3)\n"
          ]
        }
      ]
    },
    {
      "cell_type": "code",
      "source": [
        "import six\n",
        "import sys\n",
        "sys.modules['sklearn.externals.six'] = six\n",
        "from id3 import Id3Estimator\n",
        "\n",
        "\n",
        "start = time.time()\n",
        "estimator_id3 = Id3Estimator()\n",
        "\n",
        "estimator_id3.fit(X_pca_train,y_train)\n",
        "y_pred_tree = estimator_id3.predict(X_pca_test)\n",
        "\n",
        "#-----------------1-------------------------------\n",
        "\n",
        "mean_score = cross_val_score(estimator_id3, X, y, scoring=\"roc_auc\", cv = 10).mean()\n",
        "std_score = cross_val_score(estimator_id3, X, y, scoring=\"roc_auc\", cv = 10).std()\n",
        "print('mean_score : ',mean_score)\n",
        "print('std_score : ',std_score)\n",
        "\n",
        "#-----------------2-------------------------------\n",
        "\n",
        "scores = model_selection.cross_validate(estimator_id3,X,y,scoring=('accuracy', 'precision','recall'),return_train_score=True)\n",
        "\n",
        "print('test_accuracy mean : ',scores ['test_accuracy'].mean())\n",
        "print('test_accuracy std : ',scores ['test_accuracy'].std())\n",
        "print('test_precision mean : ',scores ['test_precision'].mean())\n",
        "print('test_precision std : ',scores ['test_precision'].std())\n",
        "print('test_recall mean : ',scores ['test_recall'].mean())\n",
        "print('test_recall std : ',scores ['test_recall'].std())\n",
        "\n",
        "\n",
        "print(\"Test set Accuracy of id3 : \", metrics.accuracy_score(y_test, y_pred_tree))\n",
        "print('precision_score of id3 : ', precision_score(y_test, y_pred_tree))\n",
        "print('recall_score of id3 : ', recall_score(y_test, y_pred_tree))\n",
        "\n",
        "end = time.time()\n",
        "#----------------3-----------------------\n",
        "print('TIME : ',end - start, \"seconds\")\n",
        "\n"
      ],
      "metadata": {
        "colab": {
          "base_uri": "https://localhost:8080/"
        },
        "id": "9UmEazGpxpkJ",
        "outputId": "9c731316-4005-4b37-c35e-3f175a793e69"
      },
      "execution_count": null,
      "outputs": [
        {
          "output_type": "stream",
          "name": "stdout",
          "text": [
            "mean_score :  nan\n",
            "std_score :  nan\n",
            "test_accuracy mean :  0.7442285714285715\n",
            "test_accuracy std :  0.01771096743114106\n",
            "test_precision mean :  0.812988276782578\n",
            "test_precision std :  0.006721613742075168\n",
            "test_recall mean :  0.8386414987607742\n",
            "test_recall std :  0.02717863841571649\n",
            "Test set Accuracy of id3 :  0.7207495429616088\n",
            "precision_score of id3 :  0.8132646490663232\n",
            "recall_score of id3 :  0.7973484848484849\n",
            "TIME :  63.52765512466431 seconds\n"
          ]
        }
      ]
    },
    {
      "cell_type": "markdown",
      "source": [
        "# **Decision Stump - AdaBoost :**"
      ],
      "metadata": {
        "id": "SVx7rpnaXQE6"
      }
    },
    {
      "cell_type": "code",
      "source": [
        "from sklearn.ensemble import AdaBoostClassifier\n",
        "\n",
        "start = time.time()\n",
        "\n",
        "bdt = AdaBoostClassifier(\n",
        "    DecisionTreeClassifier(max_depth=1), algorithm=\"SAMME\", n_estimators=50\n",
        ")\n",
        "\n",
        "bdt.fit(X_pca_train,y_train)\n",
        "y_pred_tree = bdt.predict(X_pca_test)\n",
        "\n",
        "#-----------------1-------------------------------\n",
        "\n",
        "mean_score = cross_val_score(bdt, X, y, scoring=\"roc_auc\", cv = 10).mean()\n",
        "std_score = cross_val_score(bdt, X, y, scoring=\"roc_auc\", cv = 10).std()\n",
        "print('mean_score : ',mean_score)\n",
        "print('std_score : ',std_score)\n",
        "\n",
        "#-----------------2-------------------------------\n",
        "\n",
        "scores = model_selection.cross_validate(bdt,X,y,scoring=('accuracy', 'precision','recall'),return_train_score=True)\n",
        "\n",
        "print('test_accuracy mean : ',scores ['test_accuracy'].mean())\n",
        "print('test_accuracy std : ',scores ['test_accuracy'].std())\n",
        "print('test_precision mean : ',scores ['test_precision'].mean())\n",
        "print('test_precision std : ',scores ['test_precision'].std())\n",
        "print('test_recall mean : ',scores ['test_recall'].mean())\n",
        "print('test_recall std : ',scores ['test_recall'].std())\n",
        "\n",
        "\n",
        "print(\"Test set Accuracy of bdt : \", metrics.accuracy_score(y_test, y_pred_tree))\n",
        "print('precision_score of bdt : ', precision_score(y_test, y_pred_tree))\n",
        "print('recall_score of bdt : ', recall_score(y_test, y_pred_tree))\n",
        "\n",
        "end = time.time()\n",
        "#----------------3-----------------------\n",
        "print('TIME : ',end - start, \"seconds\")\n",
        "\n",
        "\n"
      ],
      "metadata": {
        "colab": {
          "base_uri": "https://localhost:8080/"
        },
        "id": "8R6GJxJIWPPh",
        "outputId": "0fab8050-c45d-4560-f8f1-78284b8906bd"
      },
      "execution_count": null,
      "outputs": [
        {
          "output_type": "stream",
          "name": "stdout",
          "text": [
            "mean_score :  0.8351216279413143\n",
            "std_score :  0.01848058380397238\n",
            "test_accuracy mean :  0.7888000000000001\n",
            "test_accuracy std :  0.009894793518588976\n",
            "test_precision mean :  0.8192705022452464\n",
            "test_precision std :  0.013467944832279222\n",
            "test_recall mean :  0.9085137114084535\n",
            "test_recall std :  0.020888786945845565\n",
            "Test set Accuracy of bdt :  0.7915904936014625\n",
            "precision_score of bdt :  0.8190045248868778\n",
            "recall_score of bdt :  0.9141414141414141\n",
            "TIME :  5.722641944885254 seconds\n"
          ]
        }
      ]
    },
    {
      "cell_type": "markdown",
      "source": [
        "# **MLP :**"
      ],
      "metadata": {
        "id": "9lOYZRsfgPPu"
      }
    },
    {
      "cell_type": "code",
      "source": [
        "\n",
        "start = time.time()\n",
        "\n",
        "clf = MLPClassifier(random_state=1,hidden_layer_sizes=(20,10))\n",
        "clf.fit(X_pca_train, y_train)\n",
        "y_pred_mlp=clf.predict(X_pca_test)\n",
        "\n",
        "#-----------------1-------------------------------\n",
        "\n",
        "mean_score = cross_val_score(clf, X, y, scoring=\"roc_auc\", cv = 10).mean()\n",
        "std_score = cross_val_score(clf, X, y, scoring=\"roc_auc\", cv = 10).std()\n",
        "print('mean_score : ',mean_score)\n",
        "print('std_score : ',std_score)\n",
        "\n",
        "#-----------------2-------------------------------\n",
        "\n",
        "scores = model_selection.cross_validate(clf,X,y,scoring=('accuracy', 'precision','recall'),return_train_score=True)\n",
        "\n",
        "print('test_accuracy mean : ',scores ['test_accuracy'].mean())\n",
        "print('test_accuracy std : ',scores ['test_accuracy'].std())\n",
        "print('test_precision mean : ',scores ['test_precision'].mean())\n",
        "print('test_precision std : ',scores ['test_precision'].std())\n",
        "print('test_recall mean : ',scores ['test_recall'].mean())\n",
        "print('test_recall std : ',scores ['test_recall'].std())\n",
        "\n",
        "\n",
        "print(\"Test set Accuracy of MLP : \", metrics.accuracy_score(y_test, y_pred_mlp))\n",
        "print('precision_score of MLP : ', precision_score(y_test, y_pred_mlp))\n",
        "print('recall_score of MLP : ', recall_score(y_test, y_pred_mlp))\n",
        "\n",
        "end = time.time()\n",
        "#----------------3-----------------------\n",
        "print('TIME : ',end - start, \"seconds\")\n"
      ],
      "metadata": {
        "colab": {
          "base_uri": "https://localhost:8080/"
        },
        "id": "On4_KK4nebm3",
        "outputId": "fd7a4d26-0536-4b16-aabc-0eee445c2453"
      },
      "execution_count": null,
      "outputs": [
        {
          "output_type": "stream",
          "name": "stdout",
          "text": [
            "mean_score :  0.7286955053876472\n",
            "std_score :  0.036609729381320164\n",
            "test_accuracy mean :  0.6937142857142857\n",
            "test_accuracy std :  0.061242642206960664\n",
            "test_precision mean :  0.8101348629871395\n",
            "test_precision std :  0.04575752995822742\n",
            "test_recall mean :  0.771176452887721\n",
            "test_recall std :  0.17228962884056334\n",
            "Test set Accuracy of MLP :  0.7810786106032906\n",
            "precision_score of MLP :  0.8342407743496673\n",
            "recall_score of MLP :  0.8705808080808081\n",
            "TIME :  29.103995323181152 seconds\n"
          ]
        }
      ]
    },
    {
      "cell_type": "markdown",
      "source": [
        "# **KNN :**"
      ],
      "metadata": {
        "id": "1tMINuLIgUJ1"
      }
    },
    {
      "cell_type": "code",
      "source": [
        "k = 5\n",
        "neigh = KNeighborsClassifier(n_neighbors = k).fit(X_pca_train,y_train)\n",
        "yhat = neigh.predict(X_pca_test)\n",
        "\n",
        "start = time.time()\n",
        "\n",
        "k = 5\n",
        "neigh = KNeighborsClassifier(n_neighbors = k).fit(X_pca_train,y_train)\n",
        "y_pred_knn = neigh.predict(X_pca_test)\n",
        "\n",
        "\n",
        "\n",
        "#-----------------1-------------------------------\n",
        "\n",
        "mean_score = cross_val_score(neigh, X, y, scoring=\"roc_auc\", cv = 10).mean()\n",
        "std_score = cross_val_score(neigh, X, y, scoring=\"roc_auc\", cv = 10).std()\n",
        "print('mean_score : ',mean_score)\n",
        "print('std_score : ',std_score)\n",
        "\n",
        "#-----------------2-------------------------------\n",
        "\n",
        "scores = model_selection.cross_validate(neigh,X,y,scoring=('accuracy', 'precision','recall'),return_train_score=True)\n",
        "\n",
        "print('test_accuracy mean : ',scores ['test_accuracy'].mean())\n",
        "print('test_accuracy std : ',scores ['test_accuracy'].std())\n",
        "print('test_precision mean : ',scores ['test_precision'].mean())\n",
        "print('test_precision std : ',scores ['test_precision'].std())\n",
        "print('test_recall mean : ',scores ['test_recall'].mean())\n",
        "print('test_recall std : ',scores ['test_recall'].std())\n",
        "\n",
        "\n",
        "print(\"Test set Accuracy of KNN : \", metrics.accuracy_score(y_test, y_pred_knn))\n",
        "print('precision_score of KNN : ', precision_score(y_test, y_pred_knn))\n",
        "print('recall_score of KNN : ', recall_score(y_test, y_pred_knn))\n",
        "\n",
        "end = time.time()\n",
        "#----------------3-----------------------\n",
        "print('TIME : ',end - start, \"seconds\")\n"
      ],
      "metadata": {
        "colab": {
          "base_uri": "https://localhost:8080/"
        },
        "id": "57eYIL_SgTre",
        "outputId": "b30c1ed1-a500-41d7-b918-6afc0cccf71f"
      },
      "execution_count": null,
      "outputs": [
        {
          "output_type": "stream",
          "name": "stdout",
          "text": [
            "mean_score :  0.6643336688898998\n",
            "std_score :  0.031018852525618416\n",
            "test_accuracy mean :  0.7154285714285714\n",
            "test_accuracy std :  0.013676137418652867\n",
            "test_precision mean :  0.7654280133624825\n",
            "test_precision std :  0.006918761429213575\n",
            "test_recall mean :  0.8736865333306586\n",
            "test_recall std :  0.020550075859606245\n",
            "Test set Accuracy of KNN :  0.756398537477148\n",
            "precision_score of KNN :  0.8103957471943296\n",
            "recall_score of KNN :  0.8661616161616161\n",
            "TIME :  2.520246982574463 seconds\n"
          ]
        }
      ]
    },
    {
      "cell_type": "markdown",
      "source": [
        "# **Bagging :**"
      ],
      "metadata": {
        "id": "5ujHlAqzhfbs"
      }
    },
    {
      "cell_type": "code",
      "source": [
        "from sklearn import ensemble\n",
        "\n",
        "start = time.time()\n",
        "\n",
        "bag = ensemble.BaggingClassifier()\n",
        "\n",
        "bag.fit(X_pca_train,y_train)\n",
        "y_pred_bag = bag.predict(X_pca_test)\n",
        "\n",
        "#-----------------1-------------------------------\n",
        "\n",
        "mean_score = cross_val_score(bag, X, y, scoring=\"roc_auc\", cv = 10).mean()\n",
        "std_score = cross_val_score(bag, X, y, scoring=\"roc_auc\", cv = 10).std()\n",
        "print('mean_score : ',mean_score)\n",
        "print('std_score : ',std_score)\n",
        "\n",
        "#-----------------2-------------------------------\n",
        "\n",
        "scores = model_selection.cross_validate(bag,X,y,scoring=('accuracy', 'precision','recall'),return_train_score=True)\n",
        "\n",
        "print('test_accuracy mean : ',scores ['test_accuracy'].mean())\n",
        "print('test_accuracy std : ',scores ['test_accuracy'].std())\n",
        "print('test_precision mean : ',scores ['test_precision'].mean())\n",
        "print('test_precision std : ',scores ['test_precision'].std())\n",
        "print('test_recall mean : ',scores ['test_recall'].mean())\n",
        "print('test_recall std : ',scores ['test_recall'].std())\n",
        "\n",
        "\n",
        "print(\"Test set Accuracy of bagging : \", metrics.accuracy_score(y_test, y_pred_bag))\n",
        "print('precision_score of bagging : ', precision_score(y_test, y_pred_bag))\n",
        "print('recall_score of bagging : ', recall_score(y_test, y_pred_bag))\n",
        "\n",
        "end = time.time()\n",
        "#----------------3-----------------------\n",
        "print('TIME : ',end - start, \"seconds\")\n",
        "\n"
      ],
      "metadata": {
        "colab": {
          "base_uri": "https://localhost:8080/"
        },
        "id": "-193GKLyigHO",
        "outputId": "45c7155b-c8a7-4e80-bc30-a2e51d736873"
      },
      "execution_count": null,
      "outputs": [
        {
          "output_type": "stream",
          "name": "stdout",
          "text": [
            "mean_score :  0.7868458747455473\n",
            "std_score :  0.02355316083069628\n",
            "test_accuracy mean :  0.7645714285714286\n",
            "test_accuracy std :  0.008304412399810253\n",
            "test_precision mean :  0.8337694801892548\n",
            "test_precision std :  0.010369256133780941\n",
            "test_recall mean :  0.8423458845714056\n",
            "test_recall std :  0.024878628544583076\n",
            "Test set Accuracy of bagging :  0.7595978062157221\n",
            "precision_score of bagging :  0.8417312661498708\n",
            "recall_score of bagging :  0.82260101010101\n",
            "TIME :  4.688097715377808 seconds\n"
          ]
        }
      ]
    },
    {
      "cell_type": "markdown",
      "source": [
        "# **Random Forest :**"
      ],
      "metadata": {
        "id": "5qw699F3jVJh"
      }
    },
    {
      "cell_type": "code",
      "source": [
        "start = time.time()\n",
        "\n",
        "RF = RandomForestClassifier(n_estimators=50)\n",
        "RF.fit(X_pca_train,y_train)\n",
        "y_pred_RF = RF.predict(X_pca_test)\n",
        "\n",
        "#-----------------1-------------------------------\n",
        "\n",
        "mean_score = cross_val_score(RF, X, y, scoring=\"roc_auc\", cv = 10).mean()\n",
        "std_score = cross_val_score(RF, X, y, scoring=\"roc_auc\", cv = 10).std()\n",
        "print('mean_score : ',mean_score)\n",
        "print('std_score : ',std_score)\n",
        "\n",
        "#-----------------2-------------------------------\n",
        "\n",
        "scores = model_selection.cross_validate(RF,X,y,scoring=('accuracy', 'precision','recall'),return_train_score=True)\n",
        "\n",
        "print('test_accuracy mean : ',scores ['test_accuracy'].mean())\n",
        "print('test_accuracy std : ',scores ['test_accuracy'].std())\n",
        "print('test_precision mean : ',scores ['test_precision'].mean())\n",
        "print('test_precision std : ',scores ['test_precision'].std())\n",
        "print('test_recall mean : ',scores ['test_recall'].mean())\n",
        "print('test_recall std : ',scores ['test_recall'].std())\n",
        "\n",
        "\n",
        "print(\"Test set Accuracy of RF : \", metrics.accuracy_score(y_test, y_pred_RF))\n",
        "print('precision_score of RF : ', precision_score(y_test, y_pred_RF))\n",
        "print('recall_score of RF : ', recall_score(y_test, y_pred_RF))\n",
        "\n",
        "end = time.time()\n",
        "#----------------3-----------------------\n",
        "print('TIME : ',end - start, \"seconds\")\n",
        "\n"
      ],
      "metadata": {
        "colab": {
          "base_uri": "https://localhost:8080/"
        },
        "id": "Fo4a-i8djdAV",
        "outputId": "22dd50a5-59c9-462a-abcc-4184a742ae4b"
      },
      "execution_count": null,
      "outputs": [
        {
          "output_type": "stream",
          "name": "stdout",
          "text": [
            "mean_score :  0.8244434783760889\n",
            "std_score :  0.015208685956997928\n",
            "test_accuracy mean :  0.7881142857142857\n",
            "test_accuracy std :  0.011779747407291527\n",
            "test_precision mean :  0.8233346308393626\n",
            "test_precision std :  0.014029716384140375\n",
            "test_recall mean :  0.9002813496760215\n",
            "test_recall std :  0.02062508267156529\n",
            "Test set Accuracy of RF :  0.7952468007312614\n",
            "precision_score of RF :  0.831002331002331\n",
            "recall_score of RF :  0.9002525252525253\n",
            "TIME :  7.420989751815796 seconds\n"
          ]
        }
      ]
    },
    {
      "cell_type": "markdown",
      "source": [
        "# **COMPARAISON :**"
      ],
      "metadata": {
        "id": "ruONc2PInDUu"
      }
    },
    {
      "cell_type": "code",
      "source": [
        "def run_classifier():\n",
        "    clfs = {\n",
        "    'RF': RandomForestClassifier(n_estimators=50, random_state=1),\n",
        "    'KNN': KNeighborsClassifier(n_neighbors=10),\n",
        "    'BAGGING' : ensemble.BaggingClassifier(),\n",
        "    'MLP' : MLPClassifier(random_state=1,hidden_layer_sizes=(20,10)),\n",
        "    'ADA_STUMP' : AdaBoostClassifier(DecisionTreeClassifier(max_depth=1), algorithm=\"SAMME\", n_estimators=50),\n",
        "    'CART': DecisionTreeClassifier(criterion=\"gini\",random_state=1),\n",
        "    'NAIVE_BAYES': GaussianNB(),\n",
        "    'ID3': Id3Estimator()\n",
        "    }\n",
        "    kf = model_selection.KFold(n_splits=10, shuffle=True, random_state=0)\n",
        "    for i in clfs:\n",
        "        clf = clfs[i]\n",
        "        cv_acc = cross_val_score(clf, X, y,scoring=\"roc_auc\", cv=kf)\n",
        "        print(\"Accuracy for {0} is: {1:.3f} +/- {2:.3f}\".format(i, np.mean(cv_acc), np.std(cv_acc)))\n",
        "run_classifier()"
      ],
      "metadata": {
        "colab": {
          "base_uri": "https://localhost:8080/"
        },
        "id": "xEX07-tMknsR",
        "outputId": "3f15822f-a95f-4950-e452-f33fd0f82f60"
      },
      "execution_count": null,
      "outputs": [
        {
          "output_type": "stream",
          "name": "stdout",
          "text": [
            "Accuracy for RF is: 0.782 +/- 0.014\n",
            "Accuracy for KNN is: 0.732 +/- 0.016\n",
            "Accuracy for BAGGING is: 0.763 +/- 0.025\n",
            "Accuracy for MLP is: 0.699 +/- 0.080\n",
            "Accuracy for ADA_STUMP is: 0.790 +/- 0.015\n",
            "Accuracy for CART is: 0.727 +/- 0.025\n",
            "Accuracy for NAIVE_BAYES is: 0.772 +/- 0.022\n"
          ]
        }
      ]
    },
    {
      "cell_type": "code",
      "source": [
        "\n"
      ],
      "metadata": {
        "id": "RITnlWCSdWR5"
      },
      "execution_count": null,
      "outputs": []
    }
  ]
}